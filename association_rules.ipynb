{
 "cells": [
  {
   "cell_type": "code",
   "execution_count": 16,
   "id": "edf94d91-87dc-429d-a1bf-6a7c95653d4d",
   "metadata": {},
   "outputs": [
    {
     "name": "stdout",
     "output_type": "stream",
     "text": [
      "Requirement already satisfied: pandas in c:\\users\\lenovo\\anaconda3\\lib\\site-packages (2.2.2)\n",
      "Requirement already satisfied: openpyxl in c:\\users\\lenovo\\anaconda3\\lib\\site-packages (3.1.2)\n",
      "Requirement already satisfied: mlxtend in c:\\users\\lenovo\\anaconda3\\lib\\site-packages (0.23.1)\n",
      "Requirement already satisfied: numpy>=1.23.2 in c:\\users\\lenovo\\anaconda3\\lib\\site-packages (from pandas) (1.26.4)\n",
      "Requirement already satisfied: python-dateutil>=2.8.2 in c:\\users\\lenovo\\anaconda3\\lib\\site-packages (from pandas) (2.9.0.post0)\n",
      "Requirement already satisfied: pytz>=2020.1 in c:\\users\\lenovo\\anaconda3\\lib\\site-packages (from pandas) (2024.1)\n",
      "Requirement already satisfied: tzdata>=2022.7 in c:\\users\\lenovo\\anaconda3\\lib\\site-packages (from pandas) (2023.3)\n",
      "Requirement already satisfied: et-xmlfile in c:\\users\\lenovo\\anaconda3\\lib\\site-packages (from openpyxl) (1.1.0)\n",
      "Requirement already satisfied: scipy>=1.2.1 in c:\\users\\lenovo\\anaconda3\\lib\\site-packages (from mlxtend) (1.13.1)\n",
      "Requirement already satisfied: scikit-learn>=1.0.2 in c:\\users\\lenovo\\anaconda3\\lib\\site-packages (from mlxtend) (1.4.2)\n",
      "Requirement already satisfied: matplotlib>=3.0.0 in c:\\users\\lenovo\\anaconda3\\lib\\site-packages (from mlxtend) (3.8.4)\n",
      "Requirement already satisfied: joblib>=0.13.2 in c:\\users\\lenovo\\anaconda3\\lib\\site-packages (from mlxtend) (1.4.2)\n",
      "Requirement already satisfied: contourpy>=1.0.1 in c:\\users\\lenovo\\anaconda3\\lib\\site-packages (from matplotlib>=3.0.0->mlxtend) (1.2.0)\n",
      "Requirement already satisfied: cycler>=0.10 in c:\\users\\lenovo\\anaconda3\\lib\\site-packages (from matplotlib>=3.0.0->mlxtend) (0.11.0)\n",
      "Requirement already satisfied: fonttools>=4.22.0 in c:\\users\\lenovo\\anaconda3\\lib\\site-packages (from matplotlib>=3.0.0->mlxtend) (4.51.0)\n",
      "Requirement already satisfied: kiwisolver>=1.3.1 in c:\\users\\lenovo\\anaconda3\\lib\\site-packages (from matplotlib>=3.0.0->mlxtend) (1.4.4)\n",
      "Requirement already satisfied: packaging>=20.0 in c:\\users\\lenovo\\anaconda3\\lib\\site-packages (from matplotlib>=3.0.0->mlxtend) (24.1)\n",
      "Requirement already satisfied: pillow>=8 in c:\\users\\lenovo\\anaconda3\\lib\\site-packages (from matplotlib>=3.0.0->mlxtend) (10.4.0)\n",
      "Requirement already satisfied: pyparsing>=2.3.1 in c:\\users\\lenovo\\anaconda3\\lib\\site-packages (from matplotlib>=3.0.0->mlxtend) (3.0.9)\n",
      "Requirement already satisfied: six>=1.5 in c:\\users\\lenovo\\anaconda3\\lib\\site-packages (from python-dateutil>=2.8.2->pandas) (1.16.0)\n",
      "Requirement already satisfied: threadpoolctl>=2.0.0 in c:\\users\\lenovo\\anaconda3\\lib\\site-packages (from scikit-learn>=1.0.2->mlxtend) (3.5.0)\n"
     ]
    },
    {
     "data": {
      "text/html": [
       "<div>\n",
       "<style scoped>\n",
       "    .dataframe tbody tr th:only-of-type {\n",
       "        vertical-align: middle;\n",
       "    }\n",
       "\n",
       "    .dataframe tbody tr th {\n",
       "        vertical-align: top;\n",
       "    }\n",
       "\n",
       "    .dataframe thead th {\n",
       "        text-align: right;\n",
       "    }\n",
       "</style>\n",
       "<table border=\"1\" class=\"dataframe\">\n",
       "  <thead>\n",
       "    <tr style=\"text-align: right;\">\n",
       "      <th></th>\n",
       "      <th>shrimp,almonds,avocado,vegetables mix,green grapes,whole weat flour,yams,cottage cheese,energy drink,tomato juice,low fat yogurt,green tea,honey,salad,mineral water,salmon,antioxydant juice,frozen smoothie,spinach,olive oil</th>\n",
       "    </tr>\n",
       "  </thead>\n",
       "  <tbody>\n",
       "    <tr>\n",
       "      <th>0</th>\n",
       "      <td>burgers,meatballs,eggs</td>\n",
       "    </tr>\n",
       "    <tr>\n",
       "      <th>1</th>\n",
       "      <td>chutney</td>\n",
       "    </tr>\n",
       "    <tr>\n",
       "      <th>2</th>\n",
       "      <td>turkey,avocado</td>\n",
       "    </tr>\n",
       "    <tr>\n",
       "      <th>3</th>\n",
       "      <td>mineral water,milk,energy bar,whole wheat rice...</td>\n",
       "    </tr>\n",
       "    <tr>\n",
       "      <th>4</th>\n",
       "      <td>low fat yogurt</td>\n",
       "    </tr>\n",
       "  </tbody>\n",
       "</table>\n",
       "</div>"
      ],
      "text/plain": [
       "  shrimp,almonds,avocado,vegetables mix,green grapes,whole weat flour,yams,cottage cheese,energy drink,tomato juice,low fat yogurt,green tea,honey,salad,mineral water,salmon,antioxydant juice,frozen smoothie,spinach,olive oil\n",
       "0                             burgers,meatballs,eggs                                                                                                                                                                             \n",
       "1                                            chutney                                                                                                                                                                             \n",
       "2                                     turkey,avocado                                                                                                                                                                             \n",
       "3  mineral water,milk,energy bar,whole wheat rice...                                                                                                                                                                             \n",
       "4                                     low fat yogurt                                                                                                                                                                             "
      ]
     },
     "execution_count": 16,
     "metadata": {},
     "output_type": "execute_result"
    }
   ],
   "source": [
    "\n",
    "!pip install pandas openpyxl mlxtend\n",
    "import pandas as pd\n",
    "from mlxtend.frequent_patterns import apriori, association_rules\n",
    "\n",
    "df = pd.read_excel('Online retail.xlsx')\n",
    "df.head()\n",
    "\n",
    "\n",
    "  "
   ]
  },
  {
   "cell_type": "markdown",
   "id": "502f2bd3-1cb6-4524-bda9-effc630ba58c",
   "metadata": {},
   "source": [
    "# Data Preprocessing"
   ]
  },
  {
   "cell_type": "code",
   "execution_count": 17,
   "id": "d1a89b99-5770-4dfc-84be-1c4d826330da",
   "metadata": {},
   "outputs": [
    {
     "name": "stdout",
     "output_type": "stream",
     "text": [
      "Missing values in each column:\n",
      " shrimp,almonds,avocado,vegetables mix,green grapes,whole weat flour,yams,cottage cheese,energy drink,tomato juice,low fat yogurt,green tea,honey,salad,mineral water,salmon,antioxydant juice,frozen smoothie,spinach,olive oil    0\n",
      "dtype: int64\n"
     ]
    }
   ],
   "source": [
    "\n",
    "\n",
    "# Check for missing values\n",
    "missing_values = df.isnull().sum()\n",
    "print(\"Missing values in each column:\\n\", missing_values)\n",
    "\n",
    "# Remove duplicate rows\n",
    "df = df.drop_duplicates()\n",
    "\n",
    "# Split the items in each transaction into a list\n",
    "df['items'] = df.iloc[:, 0].apply(lambda x: x.split(','))\n",
    "\n",
    "# Create a list of all unique items\n",
    "all_items = sorted(set(item for sublist in df['items'] for item in sublist))\n",
    "\n"
   ]
  },
  {
   "cell_type": "code",
   "execution_count": 18,
   "id": "865e2da5-a41c-4e12-8bbb-543d8059a903",
   "metadata": {},
   "outputs": [
    {
     "name": "stdout",
     "output_type": "stream",
     "text": [
      "       antecedents      consequents  antecedent support  consequent support  \\\n",
      "0  (mineral water)        (almonds)            0.299710            0.029179   \n",
      "1        (almonds)  (mineral water)            0.029179            0.299710   \n",
      "2        (avocado)      (chocolate)            0.045797            0.205217   \n",
      "3      (chocolate)        (avocado)            0.205217            0.045797   \n",
      "4        (avocado)   (french fries)            0.045797            0.192657   \n",
      "\n",
      "    support  confidence      lift  leverage  conviction  zhangs_metric  \n",
      "0  0.010821    0.036106  1.237399  0.002076    1.007186       0.273962  \n",
      "1  0.010821    0.370861  1.237399  0.002076    1.113092       0.197619  \n",
      "2  0.010242    0.223629  1.089716  0.000843    1.023715       0.086281  \n",
      "3  0.010242    0.049906  1.089716  0.000843    1.004325       0.103588  \n",
      "4  0.011594    0.253165  1.314069  0.002771    1.081019       0.250476  \n"
     ]
    }
   ],
   "source": [
    "# Create a binary matrix\n",
    "encoded_vals = []\n",
    "for index, row in df.iterrows():\n",
    "    row_dict = {item: (item in row['items']) for item in all_items}\n",
    "    encoded_vals.append(row_dict)\n",
    "\n",
    "# Convert list of dicts to DataFrame\n",
    "encoded_df = pd.DataFrame(encoded_vals)\n",
    "\n",
    "# Apply the Apriori algorithm\n",
    "frequent_itemsets = apriori(encoded_df, min_support=0.01, use_colnames=True)\n",
    "\n",
    "# Generate the association rules\n",
    "rules = association_rules(frequent_itemsets, metric=\"lift\", min_threshold=1.0)\n",
    "\n",
    "# Display the rules\n",
    "print(rules.head())\n"
   ]
  },
  {
   "cell_type": "markdown",
   "id": "0ce0575c-b1dd-4608-acd4-7031db4031d3",
   "metadata": {},
   "source": [
    "# Analysis and Interpretation"
   ]
  },
  {
   "cell_type": "code",
   "execution_count": 19,
   "id": "e7fbc26e-db1b-413a-aba9-cd1541c074cb",
   "metadata": {},
   "outputs": [
    {
     "name": "stdout",
     "output_type": "stream",
     "text": [
      "Top 10 association rules sorted by confidence:\n",
      "                           antecedents      consequents  antecedent support  \\\n",
      "792                      (soup, milk)  (mineral water)            0.021449   \n",
      "710  (frozen vegetables, ground beef)  (mineral water)            0.024541   \n",
      "829                 (soup, spaghetti)  (mineral water)            0.020676   \n",
      "763           (pancakes, ground beef)  (mineral water)            0.020870   \n",
      "498              (chicken, chocolate)  (mineral water)            0.021256   \n",
      "775                 (milk, olive oil)  (mineral water)            0.024155   \n",
      "716  (frozen vegetables, ground beef)      (spaghetti)            0.024541   \n",
      "599            (chocolate, olive oil)  (mineral water)            0.023575   \n",
      "751               (milk, ground beef)  (mineral water)            0.031691   \n",
      "666               (eggs, ground beef)  (mineral water)            0.028792   \n",
      "\n",
      "     consequent support   support  confidence      lift  leverage  conviction  \\\n",
      "792            0.299710  0.012367    0.576577  1.923781  0.005939    1.653876   \n",
      "710            0.299710  0.013333    0.543307  1.812775  0.005978    1.533393   \n",
      "829            0.299710  0.010821    0.523364  1.746235  0.004624    1.469236   \n",
      "763            0.299710  0.010821    0.518519  1.730067  0.004566    1.454448   \n",
      "498            0.299710  0.011014    0.518182  1.728943  0.004644    1.453432   \n",
      "775            0.299710  0.012367    0.512000  1.708317  0.005128    1.435020   \n",
      "716            0.229565  0.012560    0.511811  2.229480  0.006927    1.578149   \n",
      "599            0.299710  0.011981    0.508197  1.695627  0.004915    1.423923   \n",
      "751            0.299710  0.016039    0.506098  1.688623  0.006541    1.417871   \n",
      "666            0.299710  0.014493    0.503356  1.679475  0.005863    1.410043   \n",
      "\n",
      "     zhangs_metric  \n",
      "792       0.490716  \n",
      "710       0.459640  \n",
      "829       0.436362  \n",
      "763       0.430982  \n",
      "498       0.430768  \n",
      "775       0.424892  \n",
      "716       0.565339  \n",
      "599       0.420153  \n",
      "751       0.421148  \n",
      "666       0.416570  \n"
     ]
    }
   ],
   "source": [
    "# Sort rules by confidence\n",
    "rules = rules.sort_values(by='confidence', ascending=False)\n",
    "\n",
    "# Display the top 10 rules\n",
    "print(\"Top 10 association rules sorted by confidence:\\n\", rules.head(10))\n"
   ]
  },
  {
   "cell_type": "code",
   "execution_count": 21,
   "id": "9cf6e977-db0c-4d29-9e42-190ae31513a0",
   "metadata": {},
   "outputs": [
    {
     "name": "stdout",
     "output_type": "stream",
     "text": [
      "Rule: soup, milk -> mineral water\n",
      "Support: 0.01, Confidence: 0.58, Lift: 1.92\n",
      "\n",
      "Rule: frozen vegetables, ground beef -> mineral water\n",
      "Support: 0.01, Confidence: 0.54, Lift: 1.81\n",
      "\n",
      "Rule: soup, spaghetti -> mineral water\n",
      "Support: 0.01, Confidence: 0.52, Lift: 1.75\n",
      "\n",
      "Rule: pancakes, ground beef -> mineral water\n",
      "Support: 0.01, Confidence: 0.52, Lift: 1.73\n",
      "\n",
      "Rule: chicken, chocolate -> mineral water\n",
      "Support: 0.01, Confidence: 0.52, Lift: 1.73\n",
      "\n",
      "Rule: milk, olive oil -> mineral water\n",
      "Support: 0.01, Confidence: 0.51, Lift: 1.71\n",
      "\n",
      "Rule: frozen vegetables, ground beef -> spaghetti\n",
      "Support: 0.01, Confidence: 0.51, Lift: 2.23\n",
      "\n",
      "Rule: chocolate, olive oil -> mineral water\n",
      "Support: 0.01, Confidence: 0.51, Lift: 1.70\n",
      "\n",
      "Rule: milk, ground beef -> mineral water\n",
      "Support: 0.02, Confidence: 0.51, Lift: 1.69\n",
      "\n",
      "Rule: eggs, ground beef -> mineral water\n",
      "Support: 0.01, Confidence: 0.50, Lift: 1.68\n",
      "\n"
     ]
    }
   ],
   "source": [
    "\n",
    "for index, rule in rules.head(10).iterrows():\n",
    "    antecedents = \", \".join(list(rule['antecedents']))\n",
    "    consequents = \", \".join(list(rule['consequents']))\n",
    "    support = rule['support']\n",
    "    confidence = rule['confidence']\n",
    "    lift = rule['lift']\n",
    "    print(f\"Rule: {antecedents} -> {consequents}\")\n",
    "    print(f\"Support: {support:.2f}, Confidence: {confidence:.2f}, Lift: {lift:.2f}\")\n",
    "    print()\n",
    "\n"
   ]
  },
  {
   "cell_type": "code",
   "execution_count": null,
   "id": "6a48799a-6cf5-4966-89e1-316c718906a5",
   "metadata": {},
   "outputs": [],
   "source": []
  }
 ],
 "metadata": {
  "kernelspec": {
   "display_name": "Python 3 (ipykernel)",
   "language": "python",
   "name": "python3"
  },
  "language_info": {
   "codemirror_mode": {
    "name": "ipython",
    "version": 3
   },
   "file_extension": ".py",
   "mimetype": "text/x-python",
   "name": "python",
   "nbconvert_exporter": "python",
   "pygments_lexer": "ipython3",
   "version": "3.11.5"
  }
 },
 "nbformat": 4,
 "nbformat_minor": 5
}
